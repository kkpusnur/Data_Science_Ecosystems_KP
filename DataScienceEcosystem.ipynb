{
 "cells": [
  {
   "cell_type": "markdown",
   "id": "56897fb9-5767-46f9-9cb0-e7d892215893",
   "metadata": {},
   "source": [
    "# Data Science Tools and Ecosystem"
   ]
  },
  {
   "cell_type": "markdown",
   "id": "debeee3a-30ad-4def-97e0-44b7291b437d",
   "metadata": {},
   "source": [
    "**Objectives:**\n",
    "+ List popular languages for Data Science\n",
    "+ List popular libraries for Data Science\n",
    "+ List popular open source tools for Data Science\n",
    "+ List examples of arithmetic operations"
   ]
  },
  {
   "cell_type": "markdown",
   "id": "2b8a0c45-aeb8-4f07-9d9d-d4c7659bf990",
   "metadata": {},
   "source": [
    "In this notebook, Data Science Tools and Ecosystems are summarized."
   ]
  },
  {
   "cell_type": "markdown",
   "id": "88e8b1c2-a587-40e7-ac3a-4b919968f432",
   "metadata": {},
   "source": [
    "Some of the popular languages that Data Scientists use are:\n",
    "1. Python\n",
    "2. R\n",
    "3. SQL"
   ]
  },
  {
   "cell_type": "markdown",
   "id": "86ea0773-b0cd-4b73-bbb2-e3e3dedc14b8",
   "metadata": {},
   "source": [
    "Some of the commonly used libraries used by Data Scientists include\n",
    "1. TensorFlow\n",
    "2. Pandas\n",
    "3. Matplotlib"
   ]
  },
  {
   "cell_type": "markdown",
   "id": "30acad02-c779-428f-82a2-eb5e31e25eb2",
   "metadata": {},
   "source": [
    "|Data Science Tools|\n",
    "|:-----------------|\n",
    "|Git |\n",
    "|Apachespark|\n",
    "|VS Code| \n"
   ]
  },
  {
   "cell_type": "markdown",
   "id": "04338a80-cb37-4dd0-8c53-bdc3b38b425b",
   "metadata": {},
   "source": [
    "### Below are a few examples of evaluating arithmetic expressions in Python"
   ]
  },
  {
   "cell_type": "code",
   "execution_count": 3,
   "id": "e6d50d8b-acb9-4966-a549-b94d3d813b85",
   "metadata": {},
   "outputs": [
    {
     "data": {
      "text/plain": [
       "17"
      ]
     },
     "execution_count": 3,
     "metadata": {},
     "output_type": "execute_result"
    }
   ],
   "source": [
    "## This is a simple arithmetic expression to multiply then add integers\n",
    "(3*4)+5"
   ]
  },
  {
   "cell_type": "code",
   "execution_count": 4,
   "id": "3aac3c30-1451-4ba4-8c5c-0aef3df6a86e",
   "metadata": {},
   "outputs": [
    {
     "data": {
      "text/plain": [
       "3.3333333333333335"
      ]
     },
     "execution_count": 4,
     "metadata": {},
     "output_type": "execute_result"
    }
   ],
   "source": [
    "## This will convert 200 minutes to hours by dividing by 60\n",
    "200/60"
   ]
  },
  {
   "cell_type": "markdown",
   "id": "831975dc-16af-4611-8525-ff9ec83fa7ab",
   "metadata": {},
   "source": [
    "## Author\n",
    "Khushi Pusnur"
   ]
  },
  {
   "cell_type": "code",
   "execution_count": null,
   "id": "c7637d18-f526-47c2-b702-3144672e9fe7",
   "metadata": {},
   "outputs": [],
   "source": []
  }
 ],
 "metadata": {
  "kernelspec": {
   "display_name": "Python 3 (ipykernel)",
   "language": "python",
   "name": "python3"
  },
  "language_info": {
   "codemirror_mode": {
    "name": "ipython",
    "version": 3
   },
   "file_extension": ".py",
   "mimetype": "text/x-python",
   "name": "python",
   "nbconvert_exporter": "python",
   "pygments_lexer": "ipython3",
   "version": "3.8.10"
  }
 },
 "nbformat": 4,
 "nbformat_minor": 5
}
